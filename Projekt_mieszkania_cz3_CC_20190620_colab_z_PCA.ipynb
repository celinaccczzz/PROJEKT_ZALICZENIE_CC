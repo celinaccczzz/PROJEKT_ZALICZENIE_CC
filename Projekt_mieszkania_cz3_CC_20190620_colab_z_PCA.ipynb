{
  "nbformat": 4,
  "nbformat_minor": 0,
  "metadata": {
    "colab": {
      "name": "Projekt_mieszkania_cz3_CC_20190620_colab_z PCA.ipynb",
      "version": "0.3.2",
      "provenance": [],
      "collapsed_sections": []
    },
    "language_info": {
      "codemirror_mode": {
        "name": "ipython",
        "version": 3
      },
      "file_extension": ".py",
      "mimetype": "text/x-python",
      "name": "python",
      "nbconvert_exporter": "python",
      "pygments_lexer": "ipython3",
      "version": "3.7.0"
    },
    "kernelspec": {
      "display_name": "Python 3",
      "language": "python",
      "name": "python3"
    }
  },
  "cells": [
    {
      "cell_type": "markdown",
      "metadata": {
        "id": "Evq63SnZY3IR",
        "colab_type": "text"
      },
      "source": [
        "# PROJEKT cz3 - Modelowanie - CC\n",
        "## W TYM WERSJA NA COLAB"
      ]
    },
    {
      "cell_type": "code",
      "metadata": {
        "id": "W68JyFgdY3JA",
        "colab_type": "code",
        "outputId": "664f2d63-738d-4beb-c7b4-76331fb88e89",
        "colab": {
          "base_uri": "https://localhost:8080/",
          "height": 34
        }
      },
      "source": [
        "# wersja na COLAB\n",
        "import pandas as pd\n",
        "from google.colab import drive\n",
        "drive.mount(\"/content/gdrive\", force_remount=True)"
      ],
      "execution_count": 1,
      "outputs": [
        {
          "output_type": "stream",
          "text": [
            "Mounted at /content/gdrive\n"
          ],
          "name": "stdout"
        }
      ]
    },
    {
      "cell_type": "code",
      "metadata": {
        "id": "JyNAUF-srUSz",
        "colab_type": "code",
        "colab": {}
      },
      "source": [
        "from sklearn.svm import SVC\n",
        "from sklearn.decomposition import PCA\n",
        "import pandas as pd\n",
        "import seaborn as sns\n",
        "import matplotlib.pyplot as plt\n",
        "import matplotlib\n",
        "from sklearn.model_selection import train_test_split\n",
        "from sklearn.preprocessing import StandardScaler \n",
        "from matplotlib import pyplot as plt\n",
        "from sklearn.metrics import accuracy_score\n",
        "from sklearn.pipeline import make_pipeline\n",
        "import matplotlib.image as img"
      ],
      "execution_count": 0,
      "outputs": []
    },
    {
      "cell_type": "code",
      "metadata": {
        "id": "4FSh9OmizniH",
        "colab_type": "code",
        "outputId": "a511d1f6-1d1c-4779-914f-fc27153cc5bc",
        "colab": {
          "base_uri": "https://localhost:8080/",
          "height": 34
        }
      },
      "source": [
        "# wersja na COLAB\n",
        "df_modelcena = pd.read_csv(r\"gdrive/My Drive/PROJEKT_DS/mieszkania_etap3_df.csv\",encoding='utf-8')\n",
        "df_modelcena = df_modelcena.drop([\"Unnamed: 0\"], axis=1)\n",
        "df_modelcena.shape"
      ],
      "execution_count": 3,
      "outputs": [
        {
          "output_type": "execute_result",
          "data": {
            "text/plain": [
              "(2167, 11)"
            ]
          },
          "metadata": {
            "tags": []
          },
          "execution_count": 3
        }
      ]
    },
    {
      "cell_type": "code",
      "metadata": {
        "id": "CaTE6HZENwes",
        "colab_type": "code",
        "colab": {}
      },
      "source": [
        "# wersja nie na COLAB\n",
        "#df_modelcena = pd.read_csv(\"mieszkania_etap3_df.csv\")\n",
        "# oraz od razu usuwam: Unnamed\n",
        "#df_modelcena = df_modelcena.drop([\"Unnamed: 0\"], axis=1)\n",
        "#df_modelcena.head()"
      ],
      "execution_count": 0,
      "outputs": []
    },
    {
      "cell_type": "code",
      "metadata": {
        "id": "ciAdhdPfbh8-",
        "colab_type": "code",
        "outputId": "b5c7ea54-e5db-4c7f-88e2-53165061edd9",
        "colab": {
          "base_uri": "https://localhost:8080/",
          "height": 206
        }
      },
      "source": [
        "df_modelcena.head()"
      ],
      "execution_count": 5,
      "outputs": [
        {
          "output_type": "execute_result",
          "data": {
            "text/html": [
              "<div>\n",
              "<style scoped>\n",
              "    .dataframe tbody tr th:only-of-type {\n",
              "        vertical-align: middle;\n",
              "    }\n",
              "\n",
              "    .dataframe tbody tr th {\n",
              "        vertical-align: top;\n",
              "    }\n",
              "\n",
              "    .dataframe thead th {\n",
              "        text-align: right;\n",
              "    }\n",
              "</style>\n",
              "<table border=\"1\" class=\"dataframe\">\n",
              "  <thead>\n",
              "    <tr style=\"text-align: right;\">\n",
              "      <th></th>\n",
              "      <th>cena</th>\n",
              "      <th>forma_wlasnosci</th>\n",
              "      <th>liczba_pieter</th>\n",
              "      <th>liczba_pokoi</th>\n",
              "      <th>okna</th>\n",
              "      <th>powierzchnia</th>\n",
              "      <th>rodzaj_zabudowy</th>\n",
              "      <th>rok_budowy</th>\n",
              "      <th>rynek</th>\n",
              "      <th>stan_wykonczenia</th>\n",
              "      <th>cena_mkw_PLN</th>\n",
              "    </tr>\n",
              "  </thead>\n",
              "  <tbody>\n",
              "    <tr>\n",
              "      <th>0</th>\n",
              "      <td>299000.0</td>\n",
              "      <td>1</td>\n",
              "      <td>2</td>\n",
              "      <td>2</td>\n",
              "      <td>1</td>\n",
              "      <td>40.00</td>\n",
              "      <td>1</td>\n",
              "      <td>1</td>\n",
              "      <td>1</td>\n",
              "      <td>2</td>\n",
              "      <td>7475.0</td>\n",
              "    </tr>\n",
              "    <tr>\n",
              "      <th>1</th>\n",
              "      <td>275709.0</td>\n",
              "      <td>1</td>\n",
              "      <td>2</td>\n",
              "      <td>3</td>\n",
              "      <td>1</td>\n",
              "      <td>48.37</td>\n",
              "      <td>1</td>\n",
              "      <td>1</td>\n",
              "      <td>1</td>\n",
              "      <td>1</td>\n",
              "      <td>5700.0</td>\n",
              "    </tr>\n",
              "    <tr>\n",
              "      <th>2</th>\n",
              "      <td>518891.0</td>\n",
              "      <td>1</td>\n",
              "      <td>2</td>\n",
              "      <td>4</td>\n",
              "      <td>1</td>\n",
              "      <td>79.22</td>\n",
              "      <td>2</td>\n",
              "      <td>1</td>\n",
              "      <td>1</td>\n",
              "      <td>0</td>\n",
              "      <td>6550.0</td>\n",
              "    </tr>\n",
              "    <tr>\n",
              "      <th>3</th>\n",
              "      <td>255000.0</td>\n",
              "      <td>1</td>\n",
              "      <td>1</td>\n",
              "      <td>3</td>\n",
              "      <td>1</td>\n",
              "      <td>50.00</td>\n",
              "      <td>1</td>\n",
              "      <td>1</td>\n",
              "      <td>1</td>\n",
              "      <td>1</td>\n",
              "      <td>5100.0</td>\n",
              "    </tr>\n",
              "    <tr>\n",
              "      <th>4</th>\n",
              "      <td>290457.0</td>\n",
              "      <td>1</td>\n",
              "      <td>2</td>\n",
              "      <td>3</td>\n",
              "      <td>1</td>\n",
              "      <td>49.23</td>\n",
              "      <td>1</td>\n",
              "      <td>1</td>\n",
              "      <td>1</td>\n",
              "      <td>1</td>\n",
              "      <td>5900.0</td>\n",
              "    </tr>\n",
              "  </tbody>\n",
              "</table>\n",
              "</div>"
            ],
            "text/plain": [
              "       cena  forma_wlasnosci  ...  stan_wykonczenia  cena_mkw_PLN\n",
              "0  299000.0                1  ...                 2        7475.0\n",
              "1  275709.0                1  ...                 1        5700.0\n",
              "2  518891.0                1  ...                 0        6550.0\n",
              "3  255000.0                1  ...                 1        5100.0\n",
              "4  290457.0                1  ...                 1        5900.0\n",
              "\n",
              "[5 rows x 11 columns]"
            ]
          },
          "metadata": {
            "tags": []
          },
          "execution_count": 5
        }
      ]
    },
    {
      "cell_type": "code",
      "metadata": {
        "id": "d02sxQkrbfEy",
        "colab_type": "code",
        "outputId": "492b882f-1ee1-4daf-cb39-fba734af10f6",
        "colab": {
          "base_uri": "https://localhost:8080/",
          "height": 295
        }
      },
      "source": [
        "df_modelcena.info()"
      ],
      "execution_count": 6,
      "outputs": [
        {
          "output_type": "stream",
          "text": [
            "<class 'pandas.core.frame.DataFrame'>\n",
            "RangeIndex: 2167 entries, 0 to 2166\n",
            "Data columns (total 11 columns):\n",
            "cena                2167 non-null float64\n",
            "forma_wlasnosci     2167 non-null int64\n",
            "liczba_pieter       2167 non-null int64\n",
            "liczba_pokoi        2167 non-null int64\n",
            "okna                2167 non-null int64\n",
            "powierzchnia        2167 non-null float64\n",
            "rodzaj_zabudowy     2167 non-null int64\n",
            "rok_budowy          2167 non-null int64\n",
            "rynek               2167 non-null int64\n",
            "stan_wykonczenia    2167 non-null int64\n",
            "cena_mkw_PLN        2167 non-null float64\n",
            "dtypes: float64(3), int64(8)\n",
            "memory usage: 186.3 KB\n"
          ],
          "name": "stdout"
        }
      ]
    },
    {
      "cell_type": "code",
      "metadata": {
        "id": "pvXeLofZAtwq",
        "colab_type": "code",
        "outputId": "1b88a992-d46a-4a83-92aa-e0f6cdff3c61",
        "colab": {
          "base_uri": "https://localhost:8080/",
          "height": 225
        }
      },
      "source": [
        "corr_matrix = df_modelcena.corr()\n",
        "corr_matrix['cena']"
      ],
      "execution_count": 7,
      "outputs": [
        {
          "output_type": "execute_result",
          "data": {
            "text/plain": [
              "cena                1.000000\n",
              "forma_wlasnosci     0.112982\n",
              "liczba_pieter      -0.092197\n",
              "liczba_pokoi        0.658882\n",
              "okna                0.098731\n",
              "powierzchnia        0.781664\n",
              "rodzaj_zabudowy    -0.026188\n",
              "rok_budowy          0.114604\n",
              "rynek               0.082209\n",
              "stan_wykonczenia    0.088847\n",
              "cena_mkw_PLN        0.253150\n",
              "Name: cena, dtype: float64"
            ]
          },
          "metadata": {
            "tags": []
          },
          "execution_count": 7
        }
      ]
    },
    {
      "cell_type": "code",
      "metadata": {
        "id": "yO9VOjvGAvgp",
        "colab_type": "code",
        "outputId": "740dc7df-e10f-4e97-a993-02d46090778e",
        "colab": {
          "base_uri": "https://localhost:8080/",
          "height": 225
        }
      },
      "source": [
        "corr_matrix = df_modelcena.corr()\n",
        "corr_matrix['powierzchnia']"
      ],
      "execution_count": 8,
      "outputs": [
        {
          "output_type": "execute_result",
          "data": {
            "text/plain": [
              "cena                0.781664\n",
              "forma_wlasnosci     0.049250\n",
              "liczba_pieter      -0.196748\n",
              "liczba_pokoi        0.743150\n",
              "okna                0.172431\n",
              "powierzchnia        1.000000\n",
              "rodzaj_zabudowy     0.149545\n",
              "rok_budowy          0.382884\n",
              "rynek               0.255118\n",
              "stan_wykonczenia    0.229432\n",
              "cena_mkw_PLN       -0.316120\n",
              "Name: powierzchnia, dtype: float64"
            ]
          },
          "metadata": {
            "tags": []
          },
          "execution_count": 8
        }
      ]
    },
    {
      "cell_type": "code",
      "metadata": {
        "id": "Q4yobnNCY3Mj",
        "colab_type": "code",
        "outputId": "c15ae5c5-c873-4fad-c943-d0348e925d7b",
        "colab": {
          "base_uri": "https://localhost:8080/",
          "height": 260
        }
      },
      "source": [
        "# moglabym usunac \"forma_wlasnosci\",\"rodzaj_zabudowy\" - niska korelacja z cena - ale na ten moment zostawiam\n",
        "# moglabym usunac kolumne \"rynek\" o wysokiej korelacji z \"rok_budowy\" - ale na ten moment zostawiam\n",
        "# usuwam kolumne o wysokich korelacjach: powierzchnia i liczba pokoi --> usuwam liczba_pokoi\n",
        "# usuwam cena za mkw - wczesniej planowalam ze moze bedzie to predykcja ceny za m kw, jednak zdecydowalam ze model bedzie przeiwdywal cene\n",
        "df_modelcena = df_modelcena.drop([\"liczba_pokoi\", \"cena_mkw_PLN\"], axis=1)\n",
        "df_modelcena=df_modelcena.astype(int)\n",
        "df_modelcena.info()"
      ],
      "execution_count": 9,
      "outputs": [
        {
          "output_type": "stream",
          "text": [
            "<class 'pandas.core.frame.DataFrame'>\n",
            "RangeIndex: 2167 entries, 0 to 2166\n",
            "Data columns (total 9 columns):\n",
            "cena                2167 non-null int64\n",
            "forma_wlasnosci     2167 non-null int64\n",
            "liczba_pieter       2167 non-null int64\n",
            "okna                2167 non-null int64\n",
            "powierzchnia        2167 non-null int64\n",
            "rodzaj_zabudowy     2167 non-null int64\n",
            "rok_budowy          2167 non-null int64\n",
            "rynek               2167 non-null int64\n",
            "stan_wykonczenia    2167 non-null int64\n",
            "dtypes: int64(9)\n",
            "memory usage: 152.4 KB\n"
          ],
          "name": "stdout"
        }
      ]
    },
    {
      "cell_type": "code",
      "metadata": {
        "id": "w3jHROn2BX0Z",
        "colab_type": "code",
        "outputId": "55df6d90-80a2-4559-ec66-08f18d58c73c",
        "colab": {
          "base_uri": "https://localhost:8080/",
          "height": 639
        }
      },
      "source": [
        "corrmat = df_modelcena.corr()\n",
        "f,ax = plt.subplots(figsize=(14,9))\n",
        "sns.heatmap(corrmat, vmax=0.8, square=True)"
      ],
      "execution_count": 10,
      "outputs": [
        {
          "output_type": "execute_result",
          "data": {
            "text/plain": [
              "<matplotlib.axes._subplots.AxesSubplot at 0x7f5ffe8dbdd8>"
            ]
          },
          "metadata": {
            "tags": []
          },
          "execution_count": 10
        },
        {
          "output_type": "display_data",
          "data": {
            "image/png": "[encoded data removed]",
            "text/plain": [
              "<Figure size 1008x648 with 2 Axes>"
            ]
          },
          "metadata": {
            "tags": []
          }
        }
      ]
    },
    {
      "cell_type": "code",
      "metadata": {
        "id": "83RgFTREBb1U",
        "colab_type": "code",
        "colab": {}
      },
      "source": [
        "# utworzenie zmiennej zaleznej\n",
        "y = df_modelcena.cena\n",
        "X = df_modelcena.drop(['cena'], axis = 1) .astype('float64')\n",
        "X_train, X_test, y_train, y_test = train_test_split(X, y, test_size=0.2,random_state=1)"
      ],
      "execution_count": 0,
      "outputs": []
    },
    {
      "cell_type": "code",
      "metadata": {
        "id": "r5yN0bQhBcQq",
        "colab_type": "code",
        "colab": {}
      },
      "source": [
        "# utworzenie zbioru testowego i treningowego\n",
        "from sklearn.model_selection import train_test_split\n",
        "X_train, X_test, y_train, y_test = train_test_split(X, y, test_size=0.20, random_state=42)"
      ],
      "execution_count": 0,
      "outputs": []
    },
    {
      "cell_type": "code",
      "metadata": {
        "id": "ujBIfK3ghk31",
        "colab_type": "code",
        "colab": {}
      },
      "source": [
        "seed=2\n",
        "from sklearn import model_selection\n",
        "kfold = model_selection.KFold(n_splits=4, random_state=seed)"
      ],
      "execution_count": 0,
      "outputs": []
    },
    {
      "cell_type": "code",
      "metadata": {
        "id": "evmmSbNVn35M",
        "colab_type": "code",
        "colab": {}
      },
      "source": [
        "# SKALOWANIE POGORSZYLO WYNIKI MODELU - WIEC NIE STOSUJE W OBECNYM ROZWIAZANIU\n",
        "#from sklearn.preprocessing import StandardScaler \n",
        "\n",
        "#scaler = StandardScaler() \n",
        "\n",
        "#reg_scaler = StandardScaler().fit(X_train)\n",
        "#transform_X_train = reg_scaler.transform(X_train)\n",
        "#transform_X_test = reg_scaler.transform(X_test)"
      ],
      "execution_count": 0,
      "outputs": []
    },
    {
      "cell_type": "code",
      "metadata": {
        "id": "7EqV-BOWoDcA",
        "colab_type": "code",
        "colab": {}
      },
      "source": [
        "# Redukcja wymiarowosci przy uzyciu PCA. probuje n-components=6; 8 jest wartoscia maksymalna\n",
        "\n",
        "pca = PCA(random_state = 42, n_components=6)\n",
        "\n",
        "#z uzyciem Standard Scaler\n",
        "#X_train = pca.fit_transform(transform_X_train)\n",
        "#X_test = pca.transform(transform_X_test)\n",
        "\n",
        "#bez skalera\n",
        "X_train = pca.fit_transform(X_train)\n",
        "X_test = pca.transform(X_test)"
      ],
      "execution_count": 0,
      "outputs": []
    },
    {
      "cell_type": "code",
      "metadata": {
        "id": "rIgP3N79Mpwk",
        "colab_type": "code",
        "colab": {}
      },
      "source": [
        "# Przeanalizuje wybrane modele\n",
        "# dobor optymalnych parametrow metoda crosswalidacji - GridSearchCV.\n",
        "\n",
        "from sklearn.model_selection import GridSearchCV\n",
        "from sklearn.preprocessing import PolynomialFeatures\n",
        "from sklearn.linear_model import ElasticNet\n",
        "from sklearn.pipeline import make_pipeline\n",
        "from sklearn.linear_model import Ridge\n",
        "from sklearn.linear_model import Lasso\n",
        "from sklearn.linear_model import LinearRegression\n",
        "import xgboost as xgb"
      ],
      "execution_count": 0,
      "outputs": []
    },
    {
      "cell_type": "code",
      "metadata": {
        "id": "UfZfavosSgTI",
        "colab_type": "code",
        "colab": {
          "base_uri": "https://localhost:8080/",
          "height": 298
        },
        "outputId": "3924f34e-de2a-4277-a4ae-504dac7c88f5"
      },
      "source": [
        "# ELASTIC NET\n",
        "grid_1 = GridSearchCV(make_pipeline(PolynomialFeatures(degree=2), ElasticNet(alpha=1, tol=0.1)),\n",
        "                    param_grid={'polynomialfeatures__degree': [1, 2, 3, 4],\n",
        "                    'elasticnet__alpha': [0.01, 0.05, 0.1]},\n",
        "                    cv=kfold,\n",
        "                    refit=True)\n",
        "grid_1.fit(X_train, y_train)\n",
        "print(grid_1.best_params_)\n",
        "grid_1.best_estimator_"
      ],
      "execution_count": 23,
      "outputs": [
        {
          "output_type": "stream",
          "text": [
            "/usr/local/lib/python3.6/dist-packages/sklearn/linear_model/coordinate_descent.py:475: ConvergenceWarning: Objective did not converge. You might want to increase the number of iterations. Duality gap: 3675937016119.0747, tolerance: 3473809987564.7954\n",
            "  positive)\n",
            "/usr/local/lib/python3.6/dist-packages/sklearn/linear_model/coordinate_descent.py:475: ConvergenceWarning: Objective did not converge. You might want to increase the number of iterations. Duality gap: 3691963262704.5293, tolerance: 3686226921982.785\n",
            "  positive)\n"
          ],
          "name": "stderr"
        },
        {
          "output_type": "stream",
          "text": [
            "{'elasticnet__alpha': 0.05, 'polynomialfeatures__degree': 2}\n"
          ],
          "name": "stdout"
        },
        {
          "output_type": "execute_result",
          "data": {
            "text/plain": [
              "Pipeline(memory=None,\n",
              "         steps=[('polynomialfeatures',\n",
              "                 PolynomialFeatures(degree=2, include_bias=True,\n",
              "                                    interaction_only=False, order='C')),\n",
              "                ('elasticnet',\n",
              "                 ElasticNet(alpha=0.05, copy_X=True, fit_intercept=True,\n",
              "                            l1_ratio=0.5, max_iter=1000, normalize=False,\n",
              "                            positive=False, precompute=False, random_state=None,\n",
              "                            selection='cyclic', tol=0.1, warm_start=False))],\n",
              "         verbose=False)"
            ]
          },
          "metadata": {
            "tags": []
          },
          "execution_count": 23
        }
      ]
    },
    {
      "cell_type": "code",
      "metadata": {
        "id": "LWH_eEItiY4j",
        "colab_type": "code",
        "outputId": "d99db283-a546-4a0c-b2be-78867e59134a",
        "colab": {
          "base_uri": "https://localhost:8080/",
          "height": 121
        }
      },
      "source": [
        "# prezentuje wyniki modelu\n",
        "from sklearn.metrics import r2_score, mean_squared_error, mean_absolute_error\n",
        "g1_R2_train = r2_score(y_true=y_train, y_pred=grid_1.predict(X_train))\n",
        "g1_R2_test = r2_score(y_true=y_test, y_pred=grid_1.predict(X_test))\n",
        "g1_MSE_train = mean_squared_error(y_true=y_train, y_pred=grid_1.predict(X_train))\n",
        "g1_MSE_test = mean_squared_error(y_true=y_test, y_pred=grid_1.predict(X_test))\n",
        "g1_MAE_train = mean_absolute_error(y_true=y_train, y_pred=grid_1.predict(X_train))\n",
        "g1_MAE_test = mean_absolute_error(y_true=y_test, y_pred=grid_1.predict(X_test))\n",
        "\n",
        "print(f'R^2 train {r2_score(y_true=y_train, y_pred=grid_1.predict(X_train))}')\n",
        "print(f'R^2 test {r2_score(y_true=y_test, y_pred=grid_1.predict(X_test))}')\n",
        "print(f'MSE train {mean_squared_error(y_true=y_train, y_pred=grid_1.predict(X_train))}')\n",
        "print(f'MSE test {mean_squared_error(y_true=y_test, y_pred=grid_1.predict(X_test))}')\n",
        "print(f'MAE train {mean_absolute_error(y_true=y_train, y_pred=grid_1.predict(X_train))}')\n",
        "print(f'MAE test {mean_absolute_error(y_true=y_test, y_pred=grid_1.predict(X_test))}')"
      ],
      "execution_count": 24,
      "outputs": [
        {
          "output_type": "stream",
          "text": [
            "R^2 train 0.7484783295048847\n",
            "R^2 test 0.73241482415707\n",
            "MSE train 6986516500.984286\n",
            "MSE test 7469021756.421337\n",
            "MAE train 53878.85635024499\n",
            "MAE test 54633.24946661287\n"
          ],
          "name": "stdout"
        }
      ]
    },
    {
      "cell_type": "code",
      "metadata": {
        "id": "k1MJIG2eiZpv",
        "colab_type": "code",
        "outputId": "0dfa167f-6f7a-4648-8f4d-dade584728b3",
        "colab": {
          "base_uri": "https://localhost:8080/",
          "height": 332
        }
      },
      "source": [
        "# REGRESJA LASSO\n",
        "grid_2 = GridSearchCV(make_pipeline(PolynomialFeatures(degree=2), Lasso(alpha=1, tol=0.1)),\n",
        "                    param_grid={'polynomialfeatures__degree': [1, 2, 3],\n",
        "                    'lasso__alpha': [0.001, 0.05, 0.01]},  \n",
        "                    cv=kfold,\n",
        "                    refit=True)\n",
        "grid_2.fit(X_train, y_train)\n",
        "print(grid_2.best_params_)\n",
        "grid_2.best_estimator_"
      ],
      "execution_count": 26,
      "outputs": [
        {
          "output_type": "stream",
          "text": [
            "/usr/local/lib/python3.6/dist-packages/sklearn/linear_model/coordinate_descent.py:475: ConvergenceWarning: Objective did not converge. You might want to increase the number of iterations. Duality gap: 3617650734181.1885, tolerance: 3473809987564.7954\n",
            "  positive)\n",
            "/usr/local/lib/python3.6/dist-packages/sklearn/linear_model/coordinate_descent.py:475: ConvergenceWarning: Objective did not converge. You might want to increase the number of iterations. Duality gap: 3617709538261.9985, tolerance: 3473809987564.7954\n",
            "  positive)\n"
          ],
          "name": "stderr"
        },
        {
          "output_type": "stream",
          "text": [
            "{'lasso__alpha': 0.05, 'polynomialfeatures__degree': 2}\n"
          ],
          "name": "stdout"
        },
        {
          "output_type": "stream",
          "text": [
            "/usr/local/lib/python3.6/dist-packages/sklearn/linear_model/coordinate_descent.py:475: ConvergenceWarning: Objective did not converge. You might want to increase the number of iterations. Duality gap: 3617661524931.4946, tolerance: 3473809987564.7954\n",
            "  positive)\n"
          ],
          "name": "stderr"
        },
        {
          "output_type": "execute_result",
          "data": {
            "text/plain": [
              "Pipeline(memory=None,\n",
              "         steps=[('polynomialfeatures',\n",
              "                 PolynomialFeatures(degree=2, include_bias=True,\n",
              "                                    interaction_only=False, order='C')),\n",
              "                ('lasso',\n",
              "                 Lasso(alpha=0.05, copy_X=True, fit_intercept=True,\n",
              "                       max_iter=1000, normalize=False, positive=False,\n",
              "                       precompute=False, random_state=None, selection='cyclic',\n",
              "                       tol=0.1, warm_start=False))],\n",
              "         verbose=False)"
            ]
          },
          "metadata": {
            "tags": []
          },
          "execution_count": 26
        }
      ]
    },
    {
      "cell_type": "code",
      "metadata": {
        "id": "97TtQTIjMp_R",
        "colab_type": "code",
        "outputId": "64957009-36ce-4bd4-fc11-bbb29cdd7192",
        "colab": {
          "base_uri": "https://localhost:8080/",
          "height": 121
        }
      },
      "source": [
        "# prezentuje wyniki modelu\n",
        "g2_R2_train = r2_score(y_true=y_train, y_pred=grid_2.predict(X_train))\n",
        "g2_R2_test = r2_score(y_true=y_test, y_pred=grid_2.predict(X_test))\n",
        "g2_MSE_train = mean_squared_error(y_true=y_train, y_pred=grid_2.predict(X_train))\n",
        "g2_MSE_test = mean_squared_error(y_true=y_test, y_pred=grid_2.predict(X_test))\n",
        "g2_MAE_train = mean_absolute_error(y_true=y_train, y_pred=grid_2.predict(X_train))\n",
        "g2_MAE_test = mean_absolute_error(y_true=y_test, y_pred=grid_2.predict(X_test))\n",
        "\n",
        "print(f'R^2 train {g2_R2_train}')\n",
        "print(f'R^2 test {g2_R2_test}')\n",
        "print(f'MSE train {g2_MSE_train}')\n",
        "print(f'MSE test {g2_MSE_test}')\n",
        "print(f'MAE train {g2_MAE_train}')\n",
        "print(f'MAE test {g2_MAE_test}')"
      ],
      "execution_count": 27,
      "outputs": [
        {
          "output_type": "stream",
          "text": [
            "R^2 train 0.7490643302762845\n",
            "R^2 test 0.7320690455916529\n",
            "MSE train 6970239159.747983\n",
            "MSE test 7478673365.931728\n",
            "MAE train 53952.17536438884\n",
            "MAE test 54741.51993910471\n"
          ],
          "name": "stdout"
        }
      ]
    },
    {
      "cell_type": "code",
      "metadata": {
        "id": "nQSCQ0Q9MqUG",
        "colab_type": "code",
        "outputId": "2682eb54-b182-4288-fbfd-8813112a8e39",
        "colab": {
          "base_uri": "https://localhost:8080/",
          "height": 503
        }
      },
      "source": [
        "# REGRESJA GRZBIETOWA RIDGE\n",
        "grid_3 = GridSearchCV(make_pipeline(PolynomialFeatures(degree=2), Ridge(alpha=1, tol=0.1)),\n",
        "                    param_grid={'polynomialfeatures__degree': [1, 2, 3],\n",
        "                    'ridge__alpha': [0.001, 0.05, 0.01]},\n",
        "                    cv=kfold,\n",
        "                    refit=True)\n",
        "grid_3.fit(X_train, y_train)\n",
        "print(grid_3.best_params_)\n",
        "grid_3.best_estimator_"
      ],
      "execution_count": 28,
      "outputs": [
        {
          "output_type": "stream",
          "text": [
            "{'polynomialfeatures__degree': 2, 'ridge__alpha': 0.05}\n"
          ],
          "name": "stdout"
        },
        {
          "output_type": "stream",
          "text": [
            "/usr/local/lib/python3.6/dist-packages/sklearn/linear_model/ridge.py:147: LinAlgWarning: Ill-conditioned matrix (rcond=3.11671e-18): result may not be accurate.\n",
            "  overwrite_a=True).T\n",
            "/usr/local/lib/python3.6/dist-packages/sklearn/linear_model/ridge.py:147: LinAlgWarning: Ill-conditioned matrix (rcond=2.61789e-18): result may not be accurate.\n",
            "  overwrite_a=True).T\n",
            "/usr/local/lib/python3.6/dist-packages/sklearn/linear_model/ridge.py:147: LinAlgWarning: Ill-conditioned matrix (rcond=5.42683e-18): result may not be accurate.\n",
            "  overwrite_a=True).T\n",
            "/usr/local/lib/python3.6/dist-packages/sklearn/linear_model/ridge.py:147: LinAlgWarning: Ill-conditioned matrix (rcond=3.3737e-18): result may not be accurate.\n",
            "  overwrite_a=True).T\n",
            "/usr/local/lib/python3.6/dist-packages/sklearn/linear_model/ridge.py:147: LinAlgWarning: Ill-conditioned matrix (rcond=1.0311e-16): result may not be accurate.\n",
            "  overwrite_a=True).T\n",
            "/usr/local/lib/python3.6/dist-packages/sklearn/linear_model/ridge.py:147: LinAlgWarning: Ill-conditioned matrix (rcond=3.11671e-17): result may not be accurate.\n",
            "  overwrite_a=True).T\n",
            "/usr/local/lib/python3.6/dist-packages/sklearn/linear_model/ridge.py:147: LinAlgWarning: Ill-conditioned matrix (rcond=2.61789e-17): result may not be accurate.\n",
            "  overwrite_a=True).T\n",
            "/usr/local/lib/python3.6/dist-packages/sklearn/linear_model/ridge.py:147: LinAlgWarning: Ill-conditioned matrix (rcond=5.42683e-17): result may not be accurate.\n",
            "  overwrite_a=True).T\n",
            "/usr/local/lib/python3.6/dist-packages/sklearn/linear_model/ridge.py:147: LinAlgWarning: Ill-conditioned matrix (rcond=3.3737e-17): result may not be accurate.\n",
            "  overwrite_a=True).T\n"
          ],
          "name": "stderr"
        },
        {
          "output_type": "execute_result",
          "data": {
            "text/plain": [
              "Pipeline(memory=None,\n",
              "         steps=[('polynomialfeatures',\n",
              "                 PolynomialFeatures(degree=2, include_bias=True,\n",
              "                                    interaction_only=False, order='C')),\n",
              "                ('ridge',\n",
              "                 Ridge(alpha=0.05, copy_X=True, fit_intercept=True,\n",
              "                       max_iter=None, normalize=False, random_state=None,\n",
              "                       solver='auto', tol=0.1))],\n",
              "         verbose=False)"
            ]
          },
          "metadata": {
            "tags": []
          },
          "execution_count": 28
        }
      ]
    },
    {
      "cell_type": "code",
      "metadata": {
        "id": "NBq96LGuMpWu",
        "colab_type": "code",
        "outputId": "d9242702-2780-4139-c842-0eaf089c9f82",
        "colab": {
          "base_uri": "https://localhost:8080/",
          "height": 121
        }
      },
      "source": [
        "# prezentuje wyniki modelu\n",
        "g3_R2_train = r2_score(y_true=y_train, y_pred=grid_3.predict(X_train))\n",
        "g3_R2_test = r2_score(y_true=y_test, y_pred=grid_3.predict(X_test))\n",
        "g3_MSE_train = mean_squared_error(y_true=y_train, y_pred=grid_3.predict(X_train))\n",
        "g3_MSE_test = mean_squared_error(y_true=y_test, y_pred=grid_3.predict(X_test))\n",
        "g3_MAE_train = mean_absolute_error(y_true=y_train, y_pred=grid_3.predict(X_train))\n",
        "g3_MAE_test = mean_absolute_error(y_true=y_test, y_pred=grid_3.predict(X_test))\n",
        "\n",
        "print(f'R^2 train {g3_R2_train}')\n",
        "print(f'R^2 test {g3_R2_test}')\n",
        "print(f'MSE train {g3_MSE_train}')\n",
        "print(f'MSE test {g3_MSE_test}')\n",
        "print(f'MAE train {g3_MAE_train}')\n",
        "print(f'MAE test {g3_MAE_test}')"
      ],
      "execution_count": 29,
      "outputs": [
        {
          "output_type": "stream",
          "text": [
            "R^2 train 0.7490643289781735\n",
            "R^2 test 0.7320701515192545\n",
            "MSE train 6970239195.805607\n",
            "MSE test 7478642496.518684\n",
            "MAE train 53951.98571473013\n",
            "MAE test 54741.26858984583\n"
          ],
          "name": "stdout"
        }
      ]
    },
    {
      "cell_type": "code",
      "metadata": {
        "id": "P9c1oCnnqbjK",
        "colab_type": "code",
        "outputId": "44032567-4cc6-420b-a4dd-14f555e895a3",
        "colab": {
          "base_uri": "https://localhost:8080/",
          "height": 228
        }
      },
      "source": [
        "# REGRESJA LINIOWA\n",
        "grid_4 = GridSearchCV(make_pipeline(PolynomialFeatures(degree=2), LinearRegression()),\n",
        "                    param_grid={'polynomialfeatures__degree': [1, 2, 3, 4]},\n",
        "                    cv=kfold,\n",
        "                    refit=True)\n",
        "grid_4.fit(X_train, y_train)\n",
        "print(grid_4.best_params_)\n",
        "grid_4.best_estimator_"
      ],
      "execution_count": 30,
      "outputs": [
        {
          "output_type": "stream",
          "text": [
            "{'polynomialfeatures__degree': 2}\n"
          ],
          "name": "stdout"
        },
        {
          "output_type": "stream",
          "text": [
            "/usr/local/lib/python3.6/dist-packages/sklearn/model_selection/_search.py:813: DeprecationWarning: The default of the `iid` parameter will change from True to False in version 0.22 and will be removed in 0.24. This will change numeric results when test-set sizes are unequal.\n",
            "  DeprecationWarning)\n"
          ],
          "name": "stderr"
        },
        {
          "output_type": "execute_result",
          "data": {
            "text/plain": [
              "Pipeline(memory=None,\n",
              "         steps=[('polynomialfeatures',\n",
              "                 PolynomialFeatures(degree=2, include_bias=True,\n",
              "                                    interaction_only=False, order='C')),\n",
              "                ('linearregression',\n",
              "                 LinearRegression(copy_X=True, fit_intercept=True, n_jobs=None,\n",
              "                                  normalize=False))],\n",
              "         verbose=False)"
            ]
          },
          "metadata": {
            "tags": []
          },
          "execution_count": 30
        }
      ]
    },
    {
      "cell_type": "code",
      "metadata": {
        "id": "h7Hq_cr7rdvt",
        "colab_type": "code",
        "outputId": "88bb0b11-0500-4502-ade9-dfed1b3b99ce",
        "colab": {
          "base_uri": "https://localhost:8080/",
          "height": 121
        }
      },
      "source": [
        "# prezentuje wyniki modelu\n",
        "g4_R2_train = r2_score(y_true=y_train, y_pred=grid_4.predict(X_train))\n",
        "g4_R2_test = r2_score(y_true=y_test, y_pred=grid_4.predict(X_test))\n",
        "g4_MSE_train = mean_squared_error(y_true=y_train, y_pred=grid_4.predict(X_train))\n",
        "g4_MSE_test = mean_squared_error(y_true=y_test, y_pred=grid_4.predict(X_test))\n",
        "g4_MAE_train = mean_absolute_error(y_true=y_train, y_pred=grid_4.predict(X_train))\n",
        "g4_MAE_test = mean_absolute_error(y_true=y_test, y_pred=grid_4.predict(X_test))\n",
        "\n",
        "print(f'R^2 train {g4_R2_train}')\n",
        "print(f'R^2 test {g4_R2_test}')\n",
        "print(f'MSE train {g4_MSE_train}')\n",
        "print(f'MSE test {g4_MSE_test}')\n",
        "print(f'MAE train {g4_MAE_train}')\n",
        "print(f'MAE test {g4_MAE_test}')"
      ],
      "execution_count": 31,
      "outputs": [
        {
          "output_type": "stream",
          "text": [
            "R^2 train 0.7490643302857594\n",
            "R^2 test 0.732068824325007\n",
            "MSE train 6970239159.484798\n",
            "MSE test 7478679542.078771\n",
            "MAE train 53952.19318253686\n",
            "MAE test 54741.539564070525\n"
          ],
          "name": "stdout"
        }
      ]
    },
    {
      "cell_type": "code",
      "metadata": {
        "id": "XrNSMl4DrdbF",
        "colab_type": "code",
        "outputId": "37af60a1-7383-46e8-97fb-e797c48124d5",
        "colab": {
          "base_uri": "https://localhost:8080/",
          "height": 69
        }
      },
      "source": [
        "# SUPPORT VECTOR REGRESSION\n",
        "from sklearn.svm import SVR\n",
        "grid_5 = GridSearchCV(SVR(kernel='rbf'),\n",
        "                   param_grid={\"C\": [100000, 500000, 1000000],\n",
        "                               \"gamma\": [0.01, 0.1, 1.0]},\n",
        "                    cv=kfold,\n",
        "                    refit=True)\n",
        "grid_5.fit(X_train, y_train)\n",
        "print(grid_5.best_params_)\n",
        "grid_5.best_estimator_"
      ],
      "execution_count": 32,
      "outputs": [
        {
          "output_type": "stream",
          "text": [
            "{'C': 500000, 'gamma': 0.1}\n"
          ],
          "name": "stdout"
        },
        {
          "output_type": "execute_result",
          "data": {
            "text/plain": [
              "SVR(C=500000, cache_size=200, coef0=0.0, degree=3, epsilon=0.1, gamma=0.1,\n",
              "    kernel='rbf', max_iter=-1, shrinking=True, tol=0.001, verbose=False)"
            ]
          },
          "metadata": {
            "tags": []
          },
          "execution_count": 32
        }
      ]
    },
    {
      "cell_type": "code",
      "metadata": {
        "id": "a3hFamxSrdIm",
        "colab_type": "code",
        "outputId": "6ddb27dd-93eb-462d-8e68-9068f1ba7def",
        "colab": {
          "base_uri": "https://localhost:8080/",
          "height": 121
        }
      },
      "source": [
        "# prezentuje wyniki modelu\n",
        "g5_R2_train = r2_score(y_true=y_train, y_pred=grid_5.predict(X_train))\n",
        "g5_R2_test = r2_score(y_true=y_test, y_pred=grid_5.predict(X_test))\n",
        "g5_MSE_train = mean_squared_error(y_true=y_train, y_pred=grid_5.predict(X_train))\n",
        "g5_MSE_test = mean_squared_error(y_true=y_test, y_pred=grid_5.predict(X_test))\n",
        "g5_MAE_train = mean_absolute_error(y_true=y_train, y_pred=grid_5.predict(X_train))\n",
        "g5_MAE_test = mean_absolute_error(y_true=y_test, y_pred=grid_5.predict(X_test))\n",
        "\n",
        "print(f'R^2 train {g5_R2_train}')\n",
        "print(f'R^2 test {g5_R2_test}')\n",
        "print(f'MSE train {g5_MSE_train}')\n",
        "print(f'MSE test {g5_MSE_test}')\n",
        "print(f'MAE train {g5_MAE_train}')\n",
        "print(f'MAE test {g5_MAE_test}')"
      ],
      "execution_count": 33,
      "outputs": [
        {
          "output_type": "stream",
          "text": [
            "R^2 train 0.9110710406669305\n",
            "R^2 test 0.7494273042160713\n",
            "MSE train 2470179370.9179306\n",
            "MSE test 6994157693.824871\n",
            "MAE train 21616.273152198435\n",
            "MAE test 41599.31395574272\n"
          ],
          "name": "stdout"
        }
      ]
    },
    {
      "cell_type": "code",
      "metadata": {
        "id": "RDjSGatMrcsw",
        "colab_type": "code",
        "outputId": "2c0a2b17-3b06-4da5-e2b4-41fc2f65638c",
        "colab": {
          "base_uri": "https://localhost:8080/",
          "height": 156
        }
      },
      "source": [
        "# LASY LOSOWE - RANDOM FOREST REGRESSOR\n",
        "from sklearn.ensemble import RandomForestRegressor\n",
        "\n",
        "grid_6 = GridSearchCV(RandomForestRegressor(n_jobs=-1, max_features= 'sqrt', n_estimators=50, oob_score = True),\n",
        "                   param_grid={\n",
        "                   'n_estimators': [1200, 1300, 1400],\n",
        "                    'max_features': ['log2'],  # zawsze wybiera 'log2' - dlatego usuwam: 'auto', 'sqrt'\n",
        "                    'max_depth': [10, 15, 20]\n",
        "                   },\n",
        "                    cv=kfold,\n",
        "                    refit=True)\n",
        "grid_6.fit(X_train, y_train)\n",
        "print(grid_6.best_params_)\n",
        "grid_6.best_estimator_"
      ],
      "execution_count": 38,
      "outputs": [
        {
          "output_type": "stream",
          "text": [
            "{'max_depth': 20, 'max_features': 'log2', 'n_estimators': 1300}\n"
          ],
          "name": "stdout"
        },
        {
          "output_type": "execute_result",
          "data": {
            "text/plain": [
              "RandomForestRegressor(bootstrap=True, criterion='mse', max_depth=20,\n",
              "                      max_features='log2', max_leaf_nodes=None,\n",
              "                      min_impurity_decrease=0.0, min_impurity_split=None,\n",
              "                      min_samples_leaf=1, min_samples_split=2,\n",
              "                      min_weight_fraction_leaf=0.0, n_estimators=1300,\n",
              "                      n_jobs=-1, oob_score=True, random_state=None, verbose=0,\n",
              "                      warm_start=False)"
            ]
          },
          "metadata": {
            "tags": []
          },
          "execution_count": 38
        }
      ]
    },
    {
      "cell_type": "code",
      "metadata": {
        "id": "oYGY-9YRuvaK",
        "colab_type": "code",
        "outputId": "539f6bb4-c24d-47d1-825c-5b5cfb5acd2e",
        "colab": {
          "base_uri": "https://localhost:8080/",
          "height": 121
        }
      },
      "source": [
        "# prezentuje wyniki modelu\n",
        "g6_R2_train = r2_score(y_true=y_train, y_pred=grid_6.predict(X_train))\n",
        "g6_R2_test = r2_score(y_true=y_test, y_pred=grid_6.predict(X_test))\n",
        "g6_MSE_train = mean_squared_error(y_true=y_train, y_pred=grid_6.predict(X_train))\n",
        "g6_MSE_test = mean_squared_error(y_true=y_test, y_pred=grid_6.predict(X_test))\n",
        "g6_MAE_train = mean_absolute_error(y_true=y_train, y_pred=grid_6.predict(X_train))\n",
        "g6_MAE_test = mean_absolute_error(y_true=y_test, y_pred=grid_6.predict(X_test))\n",
        "\n",
        "print(f'R^2 train {g6_R2_train}')\n",
        "print(f'R^2 test {g6_R2_test}')\n",
        "print(f'MSE train {g6_MSE_train}')\n",
        "print(f'MSE test {g6_MSE_test}')\n",
        "print(f'MAE train {g6_MAE_train}')\n",
        "print(f'MAE test {g6_MAE_test}')"
      ],
      "execution_count": 39,
      "outputs": [
        {
          "output_type": "stream",
          "text": [
            "R^2 train 0.9655767777400038\n",
            "R^2 test 0.8077332082428869\n",
            "MSE train 956173716.0185708\n",
            "MSE test 5366683136.117206\n",
            "MAE train 17928.503765053178\n",
            "MAE test 39295.381189721535\n"
          ],
          "name": "stdout"
        }
      ]
    },
    {
      "cell_type": "code",
      "metadata": {
        "id": "2rVlRO4RD66h",
        "colab_type": "code",
        "outputId": "fcc8620c-115f-40e7-a279-e43c320ff84e",
        "colab": {
          "base_uri": "https://localhost:8080/",
          "height": 280
        }
      },
      "source": [
        "# XG BOOST\n",
        "import xgboost as xgb\n",
        "# wyciagamy parametry do zmiennej\n",
        "\n",
        "params = {\n",
        "    \"n_estimators\": range(2, 3, 5),   # nie zmniejszam na nizej niz 2\n",
        "    \"max_depth\": range (1, 3, 4),\n",
        "    \"learning_rate\": [0.01, 0.1, 1] \n",
        "}\n",
        "\n",
        "xg_r = xgb.XGBClassifier(random_state=42)\n",
        "\n",
        "grid_7 = GridSearchCV(estimator=xg_r, param_grid=params, n_jobs=-1,\n",
        "                      refit=True, # najlepsze wyniki\n",
        "                      #verbose=10,  # progres\n",
        "                      scoring=\"r2\") \n",
        "\n",
        "grid_7.fit(X_train, y_train)\n",
        "print(grid_7.best_params_)\n",
        "grid_7.best_estimator_"
      ],
      "execution_count": 40,
      "outputs": [
        {
          "output_type": "stream",
          "text": [
            "/usr/local/lib/python3.6/dist-packages/sklearn/model_selection/_split.py:1978: FutureWarning: The default value of cv will change from 3 to 5 in version 0.22. Specify it explicitly to silence this warning.\n",
            "  warnings.warn(CV_WARNING, FutureWarning)\n",
            "/usr/local/lib/python3.6/dist-packages/sklearn/model_selection/_split.py:657: Warning: The least populated class in y has only 1 members, which is too few. The minimum number of members in any class cannot be less than n_splits=3.\n",
            "  % (min_groups, self.n_splits)), Warning)\n",
            "/usr/local/lib/python3.6/dist-packages/sklearn/model_selection/_search.py:813: DeprecationWarning: The default of the `iid` parameter will change from True to False in version 0.22 and will be removed in 0.24. This will change numeric results when test-set sizes are unequal.\n",
            "  DeprecationWarning)\n"
          ],
          "name": "stderr"
        },
        {
          "output_type": "stream",
          "text": [
            "{'learning_rate': 0.1, 'max_depth': 1, 'n_estimators': 2}\n"
          ],
          "name": "stdout"
        },
        {
          "output_type": "execute_result",
          "data": {
            "text/plain": [
              "XGBClassifier(base_score=0.5, booster='gbtree', colsample_bylevel=1,\n",
              "              colsample_bynode=1, colsample_bytree=1, gamma=0,\n",
              "              learning_rate=0.1, max_delta_step=0, max_depth=1,\n",
              "              min_child_weight=1, missing=None, n_estimators=2, n_jobs=1,\n",
              "              nthread=None, objective='multi:softprob', random_state=42,\n",
              "              reg_alpha=0, reg_lambda=1, scale_pos_weight=1, seed=None,\n",
              "              silent=None, subsample=1, verbosity=1)"
            ]
          },
          "metadata": {
            "tags": []
          },
          "execution_count": 40
        }
      ]
    },
    {
      "cell_type": "code",
      "metadata": {
        "id": "cQiEUFAT23G2",
        "colab_type": "code",
        "outputId": "367e4ee3-398c-466f-d282-f170d85eb723",
        "colab": {
          "base_uri": "https://localhost:8080/",
          "height": 121
        }
      },
      "source": [
        "# wyniki XGBoosta\n",
        "g7_R2_train = r2_score(y_true=y_train, y_pred=grid_7.predict(X_train))\n",
        "g7_R2_test = r2_score(y_true=y_test, y_pred=grid_7.predict(X_test))\n",
        "g7_MSE_train = mean_squared_error(y_true=y_train, y_pred=grid_7.predict(X_train))\n",
        "g7_MSE_test = mean_squared_error(y_true=y_test, y_pred=grid_7.predict(X_test))\n",
        "g7_MAE_train = mean_absolute_error(y_true=y_train, y_pred=grid_7.predict(X_train))\n",
        "g7_MAE_test = mean_absolute_error(y_true=y_test, y_pred=grid_7.predict(X_test))\n",
        "\n",
        "print(f'R^2 train {g7_R2_train}')\n",
        "print(f'R^2 test {g7_R2_test}')\n",
        "print(f'MSE train {g7_MSE_train}')\n",
        "print(f'MSE test {g7_MSE_test}')\n",
        "print(f'MAE train {g7_MAE_train}')\n",
        "print(f'MAE test {g7_MAE_test}')"
      ],
      "execution_count": 41,
      "outputs": [
        {
          "output_type": "stream",
          "text": [
            "R^2 train 0.2331754874120826\n",
            "R^2 test 0.28007019113841947\n",
            "MSE train 21300081619.244663\n",
            "MSE test 20095176754.63364\n",
            "MAE train 95315.16503173688\n",
            "MAE test 90882.70276497696\n"
          ],
          "name": "stdout"
        }
      ]
    },
    {
      "cell_type": "code",
      "metadata": {
        "id": "lnmS-lvm24WV",
        "colab_type": "code",
        "outputId": "a248c1a1-b6c3-478d-b5c2-664af2be902c",
        "colab": {
          "base_uri": "https://localhost:8080/",
          "height": 191
        }
      },
      "source": [
        "# DODATKOWO XGBOOST - BEZ KROSWALIDACJI - Z WIEKSZA ILOSCIA PARAMETROW \n",
        "import xgboost as xgb\n",
        "# XGBoost bez kroswalidacji\n",
        "xgb_r = xgb.XGBRegressor(\n",
        "    colsample_bytree = 0.6,\n",
        "    gamma = 0,\n",
        "    learning_rate = 0.05,\n",
        "    max_depth = 5,\n",
        "    min_child_weight=1.5,\n",
        "    n_estimators=1000,\n",
        "    reg_alpha=0.75,\n",
        "    reg_lambda=0.45,\n",
        "    subsample=0.6,\n",
        "    seed=42,\n",
        "    nthread=2,\n",
        "    n_jobs=-1\n",
        ")\n",
        "\n",
        "xgb_r.fit(X_train, y_train)"
      ],
      "execution_count": 42,
      "outputs": [
        {
          "output_type": "stream",
          "text": [
            "/usr/local/lib/python3.6/dist-packages/xgboost/core.py:587: FutureWarning: Series.base is deprecated and will be removed in a future version\n",
            "  if getattr(data, 'base', None) is not None and \\\n"
          ],
          "name": "stderr"
        },
        {
          "output_type": "stream",
          "text": [
            "[19:15:07] WARNING: /workspace/src/objective/regression_obj.cu:152: reg:linear is now deprecated in favor of reg:squarederror.\n"
          ],
          "name": "stdout"
        },
        {
          "output_type": "execute_result",
          "data": {
            "text/plain": [
              "XGBRegressor(base_score=0.5, booster='gbtree', colsample_bylevel=1,\n",
              "             colsample_bynode=1, colsample_bytree=0.6, gamma=0,\n",
              "             importance_type='gain', learning_rate=0.05, max_delta_step=0,\n",
              "             max_depth=5, min_child_weight=1.5, missing=None, n_estimators=1000,\n",
              "             n_jobs=-1, nthread=2, objective='reg:linear', random_state=0,\n",
              "             reg_alpha=0.75, reg_lambda=0.45, scale_pos_weight=1, seed=42,\n",
              "             silent=None, subsample=0.6, verbosity=1)"
            ]
          },
          "metadata": {
            "tags": []
          },
          "execution_count": 42
        }
      ]
    },
    {
      "cell_type": "code",
      "metadata": {
        "id": "5LPCWVCvuusp",
        "colab_type": "code",
        "outputId": "5672fe5a-be4b-4f72-fc1a-0a2e17f52259",
        "colab": {
          "base_uri": "https://localhost:8080/",
          "height": 121
        }
      },
      "source": [
        "# dodatkowo - wyniki XGBoost bez kroswalidacji\n",
        "xgb_r_R2_train = r2_score(y_true=y_train, y_pred=xgb_r.predict(X_train))\n",
        "xgb_r_R2_test = r2_score(y_true=y_test, y_pred=xgb_r.predict(X_test))\n",
        "xgb_r_MSE_train = mean_squared_error(y_true=y_train, y_pred=xgb_r.predict(X_train))\n",
        "xgb_r_MSE_test = mean_squared_error(y_true=y_test, y_pred=xgb_r.predict(X_test))\n",
        "xgb_r_MAE_train = mean_absolute_error(y_true=y_train, y_pred=xgb_r.predict(X_train))\n",
        "xgb_r_MAE_test = mean_absolute_error(y_true=y_test, y_pred=xgb_r.predict(X_test))\n",
        "\n",
        "print(f'R^2 train {xgb_r_R2_train}')\n",
        "print(f'R^2 test {xgb_r_R2_test}')\n",
        "print(f'MSE train {xgb_r_MSE_train}')\n",
        "print(f'MSE test {xgb_r_MSE_test}')\n",
        "print(f'MAE train {xgb_r_MAE_train}')\n",
        "print(f'MAE test {xgb_r_MAE_test}')"
      ],
      "execution_count": 43,
      "outputs": [
        {
          "output_type": "stream",
          "text": [
            "R^2 train 0.9851531832428626\n",
            "R^2 test 0.8059383709743828\n",
            "MSE train 412399973.5555381\n",
            "MSE test 5416781870.344402\n",
            "MAE train 12250.953368436238\n",
            "MAE test 39299.566982286866\n"
          ],
          "name": "stdout"
        }
      ]
    },
    {
      "cell_type": "markdown",
      "metadata": {
        "id": "V7QiyaYMKcNG",
        "colab_type": "text"
      },
      "source": [
        "#  WYNIKI MODELOWANIA"
      ]
    },
    {
      "cell_type": "code",
      "metadata": {
        "id": "g0N5VtJUKanX",
        "colab_type": "code",
        "outputId": "2d5d0562-bae3-43a1-80a2-58bbc130736c",
        "colab": {
          "base_uri": "https://localhost:8080/",
          "height": 868
        }
      },
      "source": [
        "from sklearn import  metrics\n",
        "\n",
        "\n",
        "models = []\n",
        "models.append(('ElasticNet', grid_1.best_estimator_))\n",
        "models.append(('Lasso', grid_2.best_estimator_))\n",
        "models.append(('Ridge', grid_3.best_estimator_))\n",
        "models.append(('LR', grid_4.best_estimator_))\n",
        "models.append(('SVR', grid_5.best_estimator_))\n",
        "models.append(('RFR', grid_6.best_estimator_))\n",
        "models.append(('XGB_GridCV', grid_7.best_estimator_))\n",
        "\n",
        "r2 = []\n",
        "r2_train = []\n",
        "explained_variance_score = []\n",
        "median_absolute_error = []\n",
        "mean_squared_error = []\n",
        "mean_absolute_error = []\n",
        "for name, model in models:\n",
        "    print(name)\n",
        "    print(\"R^2_train: {}\".format(metrics.r2_score(y_train, model.predict(X_train)) ))\n",
        "    print(\"R^2_test: {}\".format(metrics.r2_score(y_test, model.predict(X_test)) ))\n",
        "    print(\"Explained variance score: {}\".format( metrics.explained_variance_score(y_test, model.predict(X_test)) ))\n",
        "    print(\"Median absolute error: {}\".format( metrics.median_absolute_error(y_test, model.predict(X_test)) ))\n",
        "    print(\"Mean squared error: {}\".format( metrics.mean_squared_error(y_test, model.predict(X_test)) ))\n",
        "    print(\"Mean absolute errors: {}\".format(metrics.mean_absolute_error(y_test, model.predict(X_test)) ))\n",
        "    r2.append(metrics.r2_score(y_test, model.predict(X_test)))\n",
        "    r2_train.append(metrics.r2_score(y_train, model.predict(X_train)))\n",
        "    explained_variance_score.append(metrics.explained_variance_score(y_test, model.predict(X_test)))\n",
        "    median_absolute_error.append( metrics.median_absolute_error(y_test, model.predict(X_test)))\n",
        "    mean_squared_error.append(metrics.mean_squared_error(y_test, model.predict(X_test)))\n",
        "    mean_absolute_error.append(metrics.mean_absolute_error(y_test, model.predict(X_test)))"
      ],
      "execution_count": 66,
      "outputs": [
        {
          "output_type": "stream",
          "text": [
            "ElasticNet\n",
            "R^2_train: 0.7484783295048847\n",
            "R^2_test: 0.73241482415707\n",
            "Explained variance score: 0.7325555861527397\n",
            "Median absolute error: 35149.898906133196\n",
            "Mean squared error: 7469021756.421337\n",
            "Mean absolute errors: 54633.24946661287\n",
            "Lasso\n",
            "R^2_train: 0.7490643302762845\n",
            "R^2_test: 0.7320690455916529\n",
            "Explained variance score: 0.732277968162675\n",
            "Median absolute error: 34421.10976379295\n",
            "Mean squared error: 7478673365.931728\n",
            "Mean absolute errors: 54741.51993910471\n",
            "Ridge\n",
            "R^2_train: 0.7490643289781735\n",
            "R^2_test: 0.7320701515192545\n",
            "Explained variance score: 0.7322789682395834\n",
            "Median absolute error: 34423.26212558284\n",
            "Mean squared error: 7478642496.518684\n",
            "Mean absolute errors: 54741.26858984583\n",
            "LR\n",
            "R^2_train: 0.7490643302857594\n",
            "R^2_test: 0.732068824325007\n",
            "Explained variance score: 0.7322777545546943\n",
            "Median absolute error: 34420.825996072876\n",
            "Mean squared error: 7478679542.078771\n",
            "Mean absolute errors: 54741.539564070525\n",
            "SVR\n",
            "R^2_train: 0.9110710406669305\n",
            "R^2_test: 0.7494273042160713\n",
            "Explained variance score: 0.7502394727465825\n",
            "Median absolute error: 19092.587653153532\n",
            "Mean squared error: 6994157693.824871\n",
            "Mean absolute errors: 41599.31395574272\n",
            "RFR\n",
            "R^2_train: 0.9655767777400038\n",
            "R^2_test: 0.8077332082428869\n",
            "Explained variance score: 0.8077657557154438\n",
            "Median absolute error: 15516.995105615366\n",
            "Mean squared error: 5366683136.117206\n",
            "Mean absolute errors: 39295.381189721535\n",
            "XGB_GridCV\n",
            "R^2_train: 0.2331754874120826\n",
            "R^2_test: 0.28007019113841947\n",
            "Explained variance score: 0.2831125139461046\n",
            "Median absolute error: 56075.0\n",
            "Mean squared error: 20095176754.63364\n",
            "Mean absolute errors: 90882.70276497696\n"
          ],
          "name": "stdout"
        }
      ]
    },
    {
      "cell_type": "code",
      "metadata": {
        "id": "SEe-eJckKaMZ",
        "colab_type": "code",
        "outputId": "c673eb1a-dfef-45ca-e519-5d75cc52bf99",
        "colab": {
          "base_uri": "https://localhost:8080/",
          "height": 269
        }
      },
      "source": [
        "# tabelaryczne przedstawienie wynikow\n",
        "import pandas as pd\n",
        "m = {'r2_train': r2_train,\n",
        "     'r2': r2,\n",
        "     'explained_variance_score': explained_variance_score, \n",
        "     'median_absolute_error': median_absolute_error,\n",
        "     'mean_squared_error' : mean_squared_error,\n",
        "     'mean_absolute_error' : mean_absolute_error,\n",
        "    }\n",
        "df = pd.DataFrame(data=m)\n",
        "df.insert(loc=0, column='Method', value=['ElasticNet','Lasso', 'Ridge','LR','SVR','RFR','XGB_GridCV'])\n",
        "df"
      ],
      "execution_count": 67,
      "outputs": [
        {
          "output_type": "execute_result",
          "data": {
            "text/html": [
              "<div>\n",
              "<style scoped>\n",
              "    .dataframe tbody tr th:only-of-type {\n",
              "        vertical-align: middle;\n",
              "    }\n",
              "\n",
              "    .dataframe tbody tr th {\n",
              "        vertical-align: top;\n",
              "    }\n",
              "\n",
              "    .dataframe thead th {\n",
              "        text-align: right;\n",
              "    }\n",
              "</style>\n",
              "<table border=\"1\" class=\"dataframe\">\n",
              "  <thead>\n",
              "    <tr style=\"text-align: right;\">\n",
              "      <th></th>\n",
              "      <th>Method</th>\n",
              "      <th>r2_train</th>\n",
              "      <th>r2</th>\n",
              "      <th>explained_variance_score</th>\n",
              "      <th>median_absolute_error</th>\n",
              "      <th>mean_squared_error</th>\n",
              "      <th>mean_absolute_error</th>\n",
              "    </tr>\n",
              "  </thead>\n",
              "  <tbody>\n",
              "    <tr>\n",
              "      <th>0</th>\n",
              "      <td>ElasticNet</td>\n",
              "      <td>0.748478</td>\n",
              "      <td>0.732415</td>\n",
              "      <td>0.732556</td>\n",
              "      <td>35149.898906</td>\n",
              "      <td>7.469022e+09</td>\n",
              "      <td>54633.249467</td>\n",
              "    </tr>\n",
              "    <tr>\n",
              "      <th>1</th>\n",
              "      <td>Lasso</td>\n",
              "      <td>0.749064</td>\n",
              "      <td>0.732069</td>\n",
              "      <td>0.732278</td>\n",
              "      <td>34421.109764</td>\n",
              "      <td>7.478673e+09</td>\n",
              "      <td>54741.519939</td>\n",
              "    </tr>\n",
              "    <tr>\n",
              "      <th>2</th>\n",
              "      <td>Ridge</td>\n",
              "      <td>0.749064</td>\n",
              "      <td>0.732070</td>\n",
              "      <td>0.732279</td>\n",
              "      <td>34423.262126</td>\n",
              "      <td>7.478642e+09</td>\n",
              "      <td>54741.268590</td>\n",
              "    </tr>\n",
              "    <tr>\n",
              "      <th>3</th>\n",
              "      <td>LR</td>\n",
              "      <td>0.749064</td>\n",
              "      <td>0.732069</td>\n",
              "      <td>0.732278</td>\n",
              "      <td>34420.825996</td>\n",
              "      <td>7.478680e+09</td>\n",
              "      <td>54741.539564</td>\n",
              "    </tr>\n",
              "    <tr>\n",
              "      <th>4</th>\n",
              "      <td>SVR</td>\n",
              "      <td>0.911071</td>\n",
              "      <td>0.749427</td>\n",
              "      <td>0.750239</td>\n",
              "      <td>19092.587653</td>\n",
              "      <td>6.994158e+09</td>\n",
              "      <td>41599.313956</td>\n",
              "    </tr>\n",
              "    <tr>\n",
              "      <th>5</th>\n",
              "      <td>RFR</td>\n",
              "      <td>0.965577</td>\n",
              "      <td>0.807733</td>\n",
              "      <td>0.807766</td>\n",
              "      <td>15516.995106</td>\n",
              "      <td>5.366683e+09</td>\n",
              "      <td>39295.381190</td>\n",
              "    </tr>\n",
              "    <tr>\n",
              "      <th>6</th>\n",
              "      <td>XGB_GridCV</td>\n",
              "      <td>0.233175</td>\n",
              "      <td>0.280070</td>\n",
              "      <td>0.283113</td>\n",
              "      <td>56075.000000</td>\n",
              "      <td>2.009518e+10</td>\n",
              "      <td>90882.702765</td>\n",
              "    </tr>\n",
              "  </tbody>\n",
              "</table>\n",
              "</div>"
            ],
            "text/plain": [
              "       Method  r2_train  ...  mean_squared_error  mean_absolute_error\n",
              "0  ElasticNet  0.748478  ...        7.469022e+09         54633.249467\n",
              "1       Lasso  0.749064  ...        7.478673e+09         54741.519939\n",
              "2       Ridge  0.749064  ...        7.478642e+09         54741.268590\n",
              "3          LR  0.749064  ...        7.478680e+09         54741.539564\n",
              "4         SVR  0.911071  ...        6.994158e+09         41599.313956\n",
              "5         RFR  0.965577  ...        5.366683e+09         39295.381190\n",
              "6  XGB_GridCV  0.233175  ...        2.009518e+10         90882.702765\n",
              "\n",
              "[7 rows x 7 columns]"
            ]
          },
          "metadata": {
            "tags": []
          },
          "execution_count": 67
        }
      ]
    },
    {
      "cell_type": "code",
      "metadata": {
        "id": "MnStpoOZU295",
        "colab_type": "code",
        "colab": {
          "base_uri": "https://localhost:8080/",
          "height": 301
        },
        "outputId": "3c355453-6c69-4f04-d2a4-588814b09145"
      },
      "source": [
        "# dodaje do zbiorczej tabeli wyniki XGBoost BEZ kroswalidacji GridSearchCV\n",
        "\n",
        "a = metrics.r2_score(y_train, xgb_r.predict(X_train))\n",
        "b = metrics.r2_score(y_test, xgb_r.predict(X_test))\n",
        "c = metrics.explained_variance_score(y_test, xgb_r.predict(X_test))\n",
        "d = metrics.median_absolute_error(y_test, xgb_r.predict(X_test))\n",
        "e = metrics.mean_squared_error(y_test, xgb_r.predict(X_test))\n",
        "f = metrics.mean_absolute_error(y_test, xgb_r.predict(X_test))\n",
        "    \n",
        "df.loc[7] = ['XGB_no_GridCV', a, b, c, d, e, f]\n",
        "df"
      ],
      "execution_count": 68,
      "outputs": [
        {
          "output_type": "execute_result",
          "data": {
            "text/html": [
              "<div>\n",
              "<style scoped>\n",
              "    .dataframe tbody tr th:only-of-type {\n",
              "        vertical-align: middle;\n",
              "    }\n",
              "\n",
              "    .dataframe tbody tr th {\n",
              "        vertical-align: top;\n",
              "    }\n",
              "\n",
              "    .dataframe thead th {\n",
              "        text-align: right;\n",
              "    }\n",
              "</style>\n",
              "<table border=\"1\" class=\"dataframe\">\n",
              "  <thead>\n",
              "    <tr style=\"text-align: right;\">\n",
              "      <th></th>\n",
              "      <th>Method</th>\n",
              "      <th>r2_train</th>\n",
              "      <th>r2</th>\n",
              "      <th>explained_variance_score</th>\n",
              "      <th>median_absolute_error</th>\n",
              "      <th>mean_squared_error</th>\n",
              "      <th>mean_absolute_error</th>\n",
              "    </tr>\n",
              "  </thead>\n",
              "  <tbody>\n",
              "    <tr>\n",
              "      <th>0</th>\n",
              "      <td>ElasticNet</td>\n",
              "      <td>0.748478</td>\n",
              "      <td>0.732415</td>\n",
              "      <td>0.732556</td>\n",
              "      <td>35149.898906</td>\n",
              "      <td>7.469022e+09</td>\n",
              "      <td>54633.249467</td>\n",
              "    </tr>\n",
              "    <tr>\n",
              "      <th>1</th>\n",
              "      <td>Lasso</td>\n",
              "      <td>0.749064</td>\n",
              "      <td>0.732069</td>\n",
              "      <td>0.732278</td>\n",
              "      <td>34421.109764</td>\n",
              "      <td>7.478673e+09</td>\n",
              "      <td>54741.519939</td>\n",
              "    </tr>\n",
              "    <tr>\n",
              "      <th>2</th>\n",
              "      <td>Ridge</td>\n",
              "      <td>0.749064</td>\n",
              "      <td>0.732070</td>\n",
              "      <td>0.732279</td>\n",
              "      <td>34423.262126</td>\n",
              "      <td>7.478642e+09</td>\n",
              "      <td>54741.268590</td>\n",
              "    </tr>\n",
              "    <tr>\n",
              "      <th>3</th>\n",
              "      <td>LR</td>\n",
              "      <td>0.749064</td>\n",
              "      <td>0.732069</td>\n",
              "      <td>0.732278</td>\n",
              "      <td>34420.825996</td>\n",
              "      <td>7.478680e+09</td>\n",
              "      <td>54741.539564</td>\n",
              "    </tr>\n",
              "    <tr>\n",
              "      <th>4</th>\n",
              "      <td>SVR</td>\n",
              "      <td>0.911071</td>\n",
              "      <td>0.749427</td>\n",
              "      <td>0.750239</td>\n",
              "      <td>19092.587653</td>\n",
              "      <td>6.994158e+09</td>\n",
              "      <td>41599.313956</td>\n",
              "    </tr>\n",
              "    <tr>\n",
              "      <th>5</th>\n",
              "      <td>RFR</td>\n",
              "      <td>0.965577</td>\n",
              "      <td>0.807733</td>\n",
              "      <td>0.807766</td>\n",
              "      <td>15516.995106</td>\n",
              "      <td>5.366683e+09</td>\n",
              "      <td>39295.381190</td>\n",
              "    </tr>\n",
              "    <tr>\n",
              "      <th>6</th>\n",
              "      <td>XGB_GridCV</td>\n",
              "      <td>0.233175</td>\n",
              "      <td>0.280070</td>\n",
              "      <td>0.283113</td>\n",
              "      <td>56075.000000</td>\n",
              "      <td>2.009518e+10</td>\n",
              "      <td>90882.702765</td>\n",
              "    </tr>\n",
              "    <tr>\n",
              "      <th>7</th>\n",
              "      <td>XGB_no_GridCV</td>\n",
              "      <td>0.985153</td>\n",
              "      <td>0.805938</td>\n",
              "      <td>0.805973</td>\n",
              "      <td>17048.937500</td>\n",
              "      <td>5.416782e+09</td>\n",
              "      <td>39299.566982</td>\n",
              "    </tr>\n",
              "  </tbody>\n",
              "</table>\n",
              "</div>"
            ],
            "text/plain": [
              "          Method  r2_train  ...  mean_squared_error  mean_absolute_error\n",
              "0     ElasticNet  0.748478  ...        7.469022e+09         54633.249467\n",
              "1          Lasso  0.749064  ...        7.478673e+09         54741.519939\n",
              "2          Ridge  0.749064  ...        7.478642e+09         54741.268590\n",
              "3             LR  0.749064  ...        7.478680e+09         54741.539564\n",
              "4            SVR  0.911071  ...        6.994158e+09         41599.313956\n",
              "5            RFR  0.965577  ...        5.366683e+09         39295.381190\n",
              "6     XGB_GridCV  0.233175  ...        2.009518e+10         90882.702765\n",
              "7  XGB_no_GridCV  0.985153  ...        5.416782e+09         39299.566982\n",
              "\n",
              "[8 rows x 7 columns]"
            ]
          },
          "metadata": {
            "tags": []
          },
          "execution_count": 68
        }
      ]
    },
    {
      "cell_type": "markdown",
      "metadata": {
        "id": "OC0eldNkltWy",
        "colab_type": "text"
      },
      "source": [
        "Wspolczynnik R^2 na train i test, czyli jakosc dopasowania modeli do proby, najlepszy jest dla RFR i XGBoost nie w ramach kroswalidacji z uzyciem GridSearchCV. Wartosci te sa najwyzsze (najblizsze 1).\n",
        "Najnizsze miary bledow dopasowania okreslajace stopien odchylenia dopasowanej ceny od rzeczywistej ceny sa rowniez na tych modelach.\n",
        "Jako najlepszy oceniam model RFR - najlepsze R^2 na test oraz najnizsze median i mean absolut error.\n",
        "\n",
        "Model XGBoost z uyciem kroswalidacji GridSearch CV nie wykazal dobrych wynikow z uwagi na ograniczony i malo trafny i dobor zakresow parametrow podanych do kroswalidacji."
      ]
    },
    {
      "cell_type": "code",
      "metadata": {
        "id": "C86ZVal7rlL1",
        "colab_type": "code",
        "colab": {}
      },
      "source": [
        ""
      ],
      "execution_count": 0,
      "outputs": []
    }
  ]
}